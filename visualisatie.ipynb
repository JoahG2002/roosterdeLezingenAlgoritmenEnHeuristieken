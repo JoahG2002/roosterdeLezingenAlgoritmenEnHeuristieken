{
 "cells": [
  {
   "cell_type": "markdown",
   "id": "3ede8650-4f71-4b16-9118-1c7f53c25a27",
   "metadata": {},
   "source": [
    "# **Visualisaties prestaties algoritmen**"
   ]
  },
  {
   "cell_type": "code",
   "execution_count": 1,
   "id": "b32e5aa1-c8f0-4234-bee2-8d5242baef5e",
   "metadata": {},
   "outputs": [],
   "source": [
    "import polars as pl\n",
    "import matplotlib.pyplot as plt\n",
    "\n",
    "from rooster.constanten.constant import bestandpaden"
   ]
  },
  {
   "cell_type": "code",
   "execution_count": null,
   "id": "ae0fb613-325a-48c7-8167-7e9e5caaac60",
   "metadata": {},
   "outputs": [],
   "source": []
  }
 ],
 "metadata": {
  "kernelspec": {
   "display_name": "Python 3 (ipykernel)",
   "language": "python",
   "name": "python3"
  },
  "language_info": {
   "codemirror_mode": {
    "name": "ipython",
    "version": 3
   },
   "file_extension": ".py",
   "mimetype": "text/x-python",
   "name": "python",
   "nbconvert_exporter": "python",
   "pygments_lexer": "ipython3",
   "version": "3.12.7"
  }
 },
 "nbformat": 4,
 "nbformat_minor": 5
}
